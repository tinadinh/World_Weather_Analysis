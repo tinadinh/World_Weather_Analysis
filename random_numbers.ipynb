{
 "cells": [
  {
   "cell_type": "code",
   "execution_count": 6,
   "id": "9d8c33c3",
   "metadata": {},
   "outputs": [],
   "source": [
    "# Import the random module.\n",
    "import random"
   ]
  },
  {
   "cell_type": "code",
   "execution_count": 7,
   "id": "52bc1e5e",
   "metadata": {},
   "outputs": [
    {
     "data": {
      "text/plain": [
       "0.9176926539676304"
      ]
     },
     "execution_count": 7,
     "metadata": {},
     "output_type": "execute_result"
    }
   ],
   "source": [
    "## The random() Function\n",
    "# - A single floating-point decimal number between 0 and 1.0\n",
    "random.random()"
   ]
  },
  {
   "cell_type": "code",
   "execution_count": 19,
   "id": "80ff22bd",
   "metadata": {},
   "outputs": [
    {
     "data": {
      "text/plain": [
       "-5"
      ]
     },
     "execution_count": 19,
     "metadata": {},
     "output_type": "execute_result"
    }
   ],
   "source": [
    "## The randit() function \n",
    "# randint is short for \"random integer.\" \n",
    "# - A single integer between –90 and 90\n",
    "random.randint(–90, 90)"
   ]
  },
  {
   "cell_type": "code",
   "execution_count": 37,
   "id": "0533e61e",
   "metadata": {},
   "outputs": [
    {
     "data": {
      "text/plain": [
       "40.33116044080557"
      ]
     },
     "execution_count": 37,
     "metadata": {},
     "output_type": "execute_result"
    }
   ],
   "source": [
    "# If we combine random.randint(-90, 89) and random.random() \n",
    "# to generate a floating-point decimal between –90 and 90\n",
    "random_number = random.randint(-90, 89) + random.random()\n",
    "random_number"
   ]
  },
  {
   "cell_type": "code",
   "execution_count": 43,
   "id": "d83f3d68",
   "metadata": {},
   "outputs": [
    {
     "data": {
      "text/plain": [
       "[-20.056135821873294,\n",
       " 89.80127734191122,\n",
       " 79.1946527002689,\n",
       " -57.76316329610956,\n",
       " 45.248948556085274,\n",
       " 57.03088680829569,\n",
       " 64.97388006394733,\n",
       " -16.50229703706425,\n",
       " 40.19502003381714,\n",
       " 9.410615327081832]"
      ]
     },
     "execution_count": 43,
     "metadata": {},
     "output_type": "execute_result"
    }
   ],
   "source": [
    "# Using random() and randint() functions, we can write an \n",
    "# algorithm that will generate latitudes between –90 and 89\n",
    "\n",
    "#1. Assign the variable x to 1\n",
    "x = 1\n",
    "#2. Initialize an empty list, latitudes\n",
    "latitudes = []\n",
    "\n",
    "#3. We create a while loop where we generate a random latitude and add it to the list\n",
    "#4. After the random latitude is added to the list we add one to the variable \"x\".\n",
    "#5. The while loop condition is checked again and will continue to run as long as x is less than 11.\n",
    "while x < 11:\n",
    "    random_lat = random.randint(-90, 89) + random.random()\n",
    "    latitudes.append(random_lat)\n",
    "    x += 1\n",
    "\n",
    "latitudes"
   ]
  },
  {
   "cell_type": "code",
   "execution_count": 44,
   "id": "7c41f413",
   "metadata": {},
   "outputs": [
    {
     "data": {
      "text/plain": [
       "82"
      ]
     },
     "execution_count": 44,
     "metadata": {},
     "output_type": "execute_result"
    }
   ],
   "source": [
    "## The randrange() function\n",
    "# - For the randrange() function, there is an option to add a step parameter \n",
    "#   and set it equal to an integer, which will generate increments of a given \n",
    "#   integer value, from the lower to the upper limit.\n",
    "\n",
    "random.randrange(-90,90, step=1)"
   ]
  },
  {
   "cell_type": "code",
   "execution_count": 52,
   "id": "a7ee07f0",
   "metadata": {},
   "outputs": [
    {
     "data": {
      "text/plain": [
       "-24"
      ]
     },
     "execution_count": 52,
     "metadata": {},
     "output_type": "execute_result"
    }
   ],
   "source": [
    "# The output is a number between -90 and 90, where the \n",
    "# difference between each number in the sequence is 3\n",
    "\n",
    "random.randrange(-90,90, step=3)"
   ]
  },
  {
   "cell_type": "code",
   "execution_count": 53,
   "id": "dab7f2a3",
   "metadata": {},
   "outputs": [
    {
     "data": {
      "text/plain": [
       "5.282465032899914"
      ]
     },
     "execution_count": 53,
     "metadata": {},
     "output_type": "execute_result"
    }
   ],
   "source": [
    "## The uniform() function\n",
    "# To generate a floating-point decimal number between two given numbers inside the parentheses\n",
    "\n",
    "random.uniform(-10,10)"
   ]
  },
  {
   "cell_type": "code",
   "execution_count": 60,
   "id": "1eb098ab",
   "metadata": {},
   "outputs": [],
   "source": [
    "# To generate more than a thousand latitudes and longitudes to create an array of latitudes or longitudes between the lowest and highest values\n",
    "# Import the NumPy module.\n",
    "import numpy as np\n",
    "\n",
    "# There is no need to import the random module if we import the NumPy module"
   ]
  },
  {
   "cell_type": "code",
   "execution_count": 61,
   "id": "2b6c7d32",
   "metadata": {},
   "outputs": [
    {
     "data": {
      "text/plain": [
       "-52.43832521806359"
      ]
     },
     "execution_count": 61,
     "metadata": {},
     "output_type": "execute_result"
    }
   ],
   "source": [
    "# To generate a floating-point decimal number between –90.000 and 90.000\n",
    "# Adding the zeros past the decimal places is optional.\n",
    "\n",
    "np.random.uniform(-90.000, 90.000)\n",
    "#np.random.uniform(low=-90, high=90) (another option)\n",
    "\n",
    "# When we use the NumPy module, the parenthetical parameters contain a lower boundary (low value) \n",
    "# and an upper boundary (high value) that are floating-point decimal numbers"
   ]
  },
  {
   "cell_type": "code",
   "execution_count": 62,
   "id": "10832777",
   "metadata": {},
   "outputs": [
    {
     "data": {
      "text/plain": [
       "array([ -9.01342794,  -9.53153943, -85.08265314, -20.20226654,\n",
       "        48.1920649 , -10.69557805,  79.02003776, -36.41767359,\n",
       "       -33.04354339,  -1.74479268,  40.1888905 ,  85.45675686,\n",
       "        -2.11041267,  71.47118316, -45.38129685,   7.69873646,\n",
       "        43.57488752, -81.66899788,  11.05968221, -36.95558339,\n",
       "       -16.8108772 , -78.32734398,  44.34401981,  12.2560053 ,\n",
       "       -74.69768863, -23.393638  ,  39.99957242,  70.49197708,\n",
       "       -48.83291749,  35.25964128,  64.65404157,  48.12824292,\n",
       "        14.96424552, -59.82981165,  66.20956644, -74.2564302 ,\n",
       "       -44.75008312,  42.49553481,  47.07464304,  50.01940348,\n",
       "       -86.11543351,  26.8627924 , -49.90631519, -84.85051515,\n",
       "       -56.98404738, -11.64845754, -37.17619471,  56.07211638,\n",
       "       -37.20771565, -69.42862346])"
      ]
     },
     "execution_count": 62,
     "metadata": {},
     "output_type": "execute_result"
    }
   ],
   "source": [
    "# To generate more than one floating-point decimal number between –90 and 90, \n",
    "# add the size parameter, use the NumPy module and set that equal to any whole number\n",
    "np.random.uniform(-90.000, 90.000, size=50)"
   ]
  },
  {
   "cell_type": "code",
   "execution_count": 63,
   "id": "8808684e",
   "metadata": {},
   "outputs": [],
   "source": [
    "# To test how long a piece of code or function takes to run\n",
    "# Import timeit.\n",
    "import timeit"
   ]
  },
  {
   "cell_type": "code",
   "execution_count": 64,
   "id": "0e8b1ea8",
   "metadata": {},
   "outputs": [
    {
     "name": "stdout",
     "output_type": "stream",
     "text": [
      "20.1 µs ± 369 ns per loop (mean ± std. dev. of 7 runs, 10000 loops each)\n"
     ]
    }
   ],
   "source": [
    "%timeit np.random.uniform(-90.000, 90.000, size=1500)\n",
    "\n",
    "# the output is the amount of time it took to run the code for 7 runs and 1,000 loops per run.\n",
    "# The amount of time it takes to run this code depends on the processing speed and the RAM of your computer.\n",
    "# Output: an average of 20.1 microseconds "
   ]
  },
  {
   "cell_type": "code",
   "execution_count": 65,
   "id": "9fa18601",
   "metadata": {},
   "outputs": [
    {
     "name": "stdout",
     "output_type": "stream",
     "text": [
      "2.71 ms ± 287 µs per loop (mean ± std. dev. of 7 runs, 100 loops each)\n"
     ]
    }
   ],
   "source": [
    "def latitudes(size):\n",
    "    latitudes = []\n",
    "    x = 0\n",
    "    while x < (size):\n",
    "        random_lat = random.randint(-90, 90) + random.random()\n",
    "        latitudes.append(random_lat)\n",
    "        x += 1\n",
    "    return latitudes\n",
    "# Call the function with 1500.\n",
    "%timeit latitudes(1500)\n",
    "#Output: 2.71 milliseconds"
   ]
  },
  {
   "cell_type": "code",
   "execution_count": 95,
   "id": "9cf9e417",
   "metadata": {},
   "outputs": [
    {
     "name": "stdout",
     "output_type": "stream",
     "text": [
      "19.8 µs ± 2.12 µs per loop (mean ± std. dev. of 7 runs, 100000 loops each)\n"
     ]
    }
   ],
   "source": [
    "## SKILL DRILL\n",
    "# Refactor the code for the while loop with the %timeit magic command and write a for loop that will generate the 1,500 latitudes."
   ]
  },
  {
   "cell_type": "code",
   "execution_count": null,
   "id": "9ef37caf",
   "metadata": {},
   "outputs": [],
   "source": []
  }
 ],
 "metadata": {
  "kernelspec": {
   "display_name": "Python 3 (ipykernel)",
   "language": "python",
   "name": "python3"
  },
  "language_info": {
   "codemirror_mode": {
    "name": "ipython",
    "version": 3
   },
   "file_extension": ".py",
   "mimetype": "text/x-python",
   "name": "python",
   "nbconvert_exporter": "python",
   "pygments_lexer": "ipython3",
   "version": "3.9.7"
  }
 },
 "nbformat": 4,
 "nbformat_minor": 5
}
